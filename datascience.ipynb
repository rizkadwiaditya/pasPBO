{
  "nbformat": 4,
  "nbformat_minor": 0,
  "metadata": {
    "colab": {
      "provenance": []
    },
    "kernelspec": {
      "name": "python3",
      "display_name": "Python 3"
    },
    "language_info": {
      "name": "python"
    }
  },
  "cells": [
    {
      "cell_type": "code",
      "execution_count": null,
      "metadata": {
        "id": "1XQD7ogHi-74"
      },
      "outputs": [],
      "source": [
        "import statistics\n",
        "import pandas as pd\n",
        "import numpy as np\n",
        "from scipy import stats"
      ]
    },
    {
      "cell_type": "code",
      "source": [
        "import matplotlib.pyplot as plt"
      ],
      "metadata": {
        "id": "ZxSeIvbEjK0H"
      },
      "execution_count": null,
      "outputs": []
    },
    {
      "cell_type": "code",
      "source": [
        "# soal no 1\n",
        "a = 3\n",
        "b = 2\n",
        "c = 4\n",
        "d = 5\n",
        "e = 6\n",
        "f = 1\n",
        "g = 5\n",
        "h = 6 \n",
        "i = 3\n",
        "j = 2\n",
        "k = 2\n",
        "l = 1\n",
        "m = 3\n",
        "n = 1\n",
        "o = 5\n",
        "satudadu = 6\n",
        "hasil = (a/satudadu)\n",
        "print(\"hasil dari 1 = \" + str(hasil))\n",
        "hasil = (b/satudadu)\n",
        "print(\"hasil dari 2 = \" + str(hasil))\n",
        "hasil = (c/satudadu)\n",
        "print(\"hasil dari 3 = \" + str(hasil))\n",
        "hasil = (d/satudadu)\n",
        "print(\"hasil dari 4 = \" + str(hasil))\n",
        "hasil = (e/satudadu)\n",
        "print(\"hasil dari 5 = \" + str(hasil))\n",
        "hasil = (f/satudadu)\n",
        "print(\"hasil dari 6 = \" + str(hasil))\n",
        "hasil = (g/satudadu)\n",
        "print(\"hasil dari 7 = \" + str(hasil))\n",
        "hasil = (h/satudadu)\n",
        "print(\"hasil dari 8 = \" + str(hasil))\n",
        "hasil = (i/satudadu)\n",
        "print(\"hasil dari 9 = \" + str(hasil))\n",
        "hasil = (j/satudadu)\n",
        "print(\"hasil dari 10 = \" + str(hasil))\n",
        "hasil = (k/satudadu)\n",
        "print(\"hasil dari 11 = \" + str(hasil))\n",
        "hasil = (l/satudadu)\n",
        "print(\"hasil dari 12 = \" + str(hasil))\n",
        "hasil = (m/satudadu)\n",
        "print(\"hasil dari 13 = \" + str(hasil))\n",
        "hasil = (n/satudadu)\n",
        "print(\"hasil dari 14 = \" + str(hasil))\n",
        "\n",
        "\n",
        "# kedua\n",
        "hasil = (a+b+c+d+e+f+g+h+i+j+k+l+m+n+o)\n",
        "print(\"hasil dari total probilitas = \" + str(hasil))\n",
        "\n",
        "# ketiga\n",
        "hasil = (a/satudadu)\n",
        "print(\"hasil dari nilai <5 = \" + str(hasil))\n",
        "hasil = (b/satudadu)\n",
        "print(\"hasil dari nilai <5 = \" + str(hasil))\n",
        "hasil = (c/satudadu)\n",
        "print(\"hasil dari nilai <5 = \" + str(hasil))\n",
        "hasil = (f/satudadu)\n",
        "print(\"hasil dari nilai <5 = \" + str(hasil))\n",
        "hasil = (i/satudadu)\n",
        "print(\"hasil dari nilai <5 = \" + str(hasil))\n",
        "hasil = (j/satudadu)\n",
        "print(\"hasil dari nilai <5 = \" + str(hasil))\n",
        "hasil = (k/satudadu)\n",
        "print(\"hasil dari nilai <5 = \" + str(hasil))\n",
        "hasil = (l/satudadu)\n",
        "print(\"hasil dari nilai <5 = \" + str(hasil))\n",
        "hasil = (m/satudadu)\n",
        "print(\"hasil dari nilai <5 = \" + str(hasil))\n",
        "hasil = (n/satudadu)\n",
        "print(\"hasil dari nilai <5 = \" + str(hasil))\n",
        "\n",
        "\n"
      ],
      "metadata": {
        "colab": {
          "base_uri": "https://localhost:8080/"
        },
        "id": "u0Ww9sJJjM27",
        "outputId": "6fcc4ed8-83ff-4284-aa1e-961c56cb440c"
      },
      "execution_count": null,
      "outputs": [
        {
          "output_type": "stream",
          "name": "stdout",
          "text": [
            "hasil dari 1 = 0.5\n",
            "hasil dari 2 = 0.3333333333333333\n",
            "hasil dari 3 = 0.6666666666666666\n",
            "hasil dari 4 = 0.8333333333333334\n",
            "hasil dari 5 = 1.0\n",
            "hasil dari 6 = 0.16666666666666666\n",
            "hasil dari 7 = 0.8333333333333334\n",
            "hasil dari 8 = 1.0\n",
            "hasil dari 9 = 0.5\n",
            "hasil dari 10 = 0.3333333333333333\n",
            "hasil dari 11 = 0.3333333333333333\n",
            "hasil dari 12 = 0.16666666666666666\n",
            "hasil dari 13 = 0.5\n",
            "hasil dari 14 = 0.16666666666666666\n",
            "hasil dari total probilitas = 49\n",
            "hasil dari nilai <5 = 0.5\n",
            "hasil dari nilai <5 = 0.3333333333333333\n",
            "hasil dari nilai <5 = 0.6666666666666666\n",
            "hasil dari nilai <5 = 0.16666666666666666\n",
            "hasil dari nilai <5 = 0.5\n",
            "hasil dari nilai <5 = 0.3333333333333333\n",
            "hasil dari nilai <5 = 0.3333333333333333\n",
            "hasil dari nilai <5 = 0.16666666666666666\n",
            "hasil dari nilai <5 = 0.5\n",
            "hasil dari nilai <5 = 0.16666666666666666\n"
          ]
        }
      ]
    },
    {
      "cell_type": "code",
      "source": [
        "# dua kali dadu\n",
        "a = 9\n",
        "b = 11\n",
        "c = 3\n",
        "d = 6\n",
        "e = 2\n",
        "f = 4 \n",
        "g = 9\n",
        "h = 12\n",
        "i = 10\n",
        "j = 8\n",
        "k = 2\n",
        "l = 6\n",
        "m = 3\n",
        "n = 4\n",
        "o = 9\n",
        "p = 8\n",
        "q = 5\n",
        "r = 6\n",
        "s = 11\n",
        "t = 10\n",
        "duadadu=12\n",
        "hasil = (a/duadadu)\n",
        "print(\"hasil dari 1 = \" + str(hasil))\n",
        "hasil = (b/duadadu)\n",
        "print(\"hasil dari 2 = \" + str(hasil))\n",
        "hasil = (c/duadadu)\n",
        "print(\"hasil dari 3 = \" + str(hasil))\n",
        "hasil = (d/duadadu)\n",
        "print(\"hasil dari 4 = \" + str(hasil))\n",
        "hasil = (e/duadadu)\n",
        "print(\"hasil dari 5 = \" + str(hasil))\n",
        "hasil = (f/duadadu)\n",
        "print(\"hasil dari 6 = \" + str(hasil))\n",
        "hasil = (g/duadadu)\n",
        "print(\"hasil dari 7 = \" + str(hasil))\n",
        "hasil = (h/duadadu)\n",
        "print(\"hasil dari 8 = \" + str(hasil))\n",
        "hasil = (i/duadadu)\n",
        "print(\"hasil dari 9 = \" + str(hasil))\n",
        "hasil = (j/duadadu)\n",
        "print(\"hasil dari 10 = \" + str(hasil))\n",
        "hasil = (k/duadadu)\n",
        "print(\"hasil dari 11 = \" + str(hasil))\n",
        "hasil = (l/duadadu)\n",
        "print(\"hasil dari 12 = \" + str(hasil))\n",
        "hasil = (m/duadadu)\n",
        "print(\"hasil dari 13 = \" + str(hasil))\n",
        "hasil = (n/duadadu)\n",
        "print(\"hasil dari 14 = \" + str(hasil))\n",
        "hasil = (0/duadadu)\n",
        "print(\"hasil dari 15 = \" + str(hasil))\n",
        "hasil = (p/duadadu)\n",
        "print(\"hasil dari 16 = \" + str(hasil))\n",
        "hasil = (q/duadadu)\n",
        "print(\"hasil dari 17 = \" + str(hasil))\n",
        "hasil = (r/duadadu)\n",
        "print(\"hasil dari 18 = \" + str(hasil))\n",
        "hasil = (s/duadadu)\n",
        "print(\"hasil dari 19 = \" + str(hasil))\n",
        "hasil = (t/duadadu)\n",
        "print(\"hasil dari 20 = \" + str(hasil))\n",
        "\n",
        "# kedua\n",
        "hasil = (a+b+c+d+e+f+g+h+i+j+k+l+m+n+o+p+q+r+s+t)\n",
        "print(\"hasil dari total probilitas = \" + str(hasil))\n",
        "#ketiga\n",
        "\n",
        "hasil = (d/duadadu)\n",
        "print(\"hasil dari 1 = \" + str(hasil))\n",
        "hasil = (e/duadadu)\n",
        "print(\"hasil dari 2 = \" + str(hasil))\n",
        "hasil = (f/duadadu)\n",
        "print(\"hasil dari 3 = \" + str(hasil))\n",
        "hasil = (h/duadadu)\n",
        "print(\"hasil dari 4 = \" + str(hasil))\n",
        "hasil = (i/duadadu)\n",
        "print(\"hasil dari 5 = \" + str(hasil))\n",
        "hasil = (j/duadadu)\n",
        "print(\"hasil dari 6 = \" + str(hasil))\n",
        "hasil = (k/duadadu)\n",
        "print(\"hasil dari 7 = \" + str(hasil))\n",
        "hasil = (l/duadadu)\n",
        "print(\"hasil dari 8 = \" + str(hasil))\n",
        "hasil = (n/duadadu)\n",
        "print(\"hasil dari 9 = \" + str(hasil))\n",
        "hasil = (p/duadadu)\n",
        "print(\"hasil dari 10 = \" + str(hasil))\n",
        "hasil = (r/duadadu)\n",
        "print(\"hasil dari 11 = \" + str(hasil))\n",
        "hasil = (t/duadadu)\n",
        "print(\"hasil dari 12 = \" + str(hasil))\n",
        "\n",
        "\n"
      ],
      "metadata": {
        "colab": {
          "base_uri": "https://localhost:8080/"
        },
        "id": "BwxC34SunMnK",
        "outputId": "ce9942a2-c2a0-41a2-89c5-14e9d2b8d24f"
      },
      "execution_count": null,
      "outputs": [
        {
          "output_type": "stream",
          "name": "stdout",
          "text": [
            "hasil dari 1 = 0.75\n",
            "hasil dari 2 = 0.9166666666666666\n",
            "hasil dari 3 = 0.25\n",
            "hasil dari 4 = 0.5\n",
            "hasil dari 5 = 0.16666666666666666\n",
            "hasil dari 6 = 0.3333333333333333\n",
            "hasil dari 7 = 0.75\n",
            "hasil dari 8 = 1.0\n",
            "hasil dari 9 = 0.8333333333333334\n",
            "hasil dari 10 = 0.6666666666666666\n",
            "hasil dari 11 = 0.16666666666666666\n",
            "hasil dari 12 = 0.5\n",
            "hasil dari 13 = 0.25\n",
            "hasil dari 14 = 0.3333333333333333\n",
            "hasil dari 15 = 0.0\n",
            "hasil dari 16 = 0.6666666666666666\n",
            "hasil dari 17 = 0.4166666666666667\n",
            "hasil dari 18 = 0.5\n",
            "hasil dari 19 = 0.9166666666666666\n",
            "hasil dari 20 = 0.8333333333333334\n",
            "hasil dari total probilitas = 138\n",
            "hasil dari 1 = 0.5\n",
            "hasil dari 2 = 0.16666666666666666\n",
            "hasil dari 3 = 0.3333333333333333\n",
            "hasil dari 4 = 1.0\n",
            "hasil dari 5 = 0.8333333333333334\n",
            "hasil dari 6 = 0.6666666666666666\n",
            "hasil dari 7 = 0.16666666666666666\n",
            "hasil dari 8 = 0.5\n",
            "hasil dari 9 = 0.3333333333333333\n",
            "hasil dari 10 = 0.6666666666666666\n",
            "hasil dari 11 = 0.5\n",
            "hasil dari 12 = 0.8333333333333334\n"
          ]
        }
      ]
    },
    {
      "cell_type": "code",
      "source": [
        "# soal no 2 toserba\n",
        "print(\"minggu 1\")\n",
        "a = 6560860\n",
        "b = 5950850\n",
        "c = 12685900\n",
        "d = 5768500\n",
        "e = 2989000\n",
        "hasil = (a+b+c+d+e)\n",
        "print(\"hasil dari minggu 1 = \" + str(hasil))\n",
        "print(\"minggu 2\")\n",
        "f = 8782150\n",
        "g = 6620000\n",
        "h = 5128750\n",
        "i = 5217300\n",
        "j = 4820600\n",
        "hasil = (f+g+h+i+j)\n",
        "print(\"hasil dari minggu 2 = \" + str(hasil))\n",
        "print(\"minggu 3\")\n",
        "o = 8130940\n",
        "n = 2940650\n",
        "m = 3488200\n",
        "l = 6930540\n",
        "k = 4319260\n",
        "hasil = (o+n+m+l+k)\n",
        "print(\"hasil dari minggu 3 = \" + str(hasil))\n",
        "print(\"minggu 4\")\n",
        "p = 12849100\n",
        "q = 5752200\n",
        "r = 5128400\n",
        "s = 3880490\n",
        "t = 4982100\n",
        "hasil = (p+q+r+s+t)\n",
        "print(\"hasil dari minggu 4 = \" + str(hasil))\n",
        "\n",
        "#cara menampilkan grafik bar\n",
        "fig = plt.figure()\n",
        "ax =  fig.add_axes([0,0,1,1])\n",
        "minggu = ['minggu1','minggu2','minggu3','minggu4']\n",
        "jumlah=[33955110, 30568800, 30568800, 32592290]\n",
        "c = ['red', 'green', 'blue']\n",
        "plt.title(\"toserba\")\n",
        "plt.bar(minggu, jumlah, color=c)\n",
        "plt.show()\n",
        "\n",
        "# pie chart\n",
        "fig = plt.figure()\n",
        "ax = fig.add_axes([0,0,1,1])\n",
        "ax.axis('equal')\n",
        "minggu = ['minggu1','minggu2','minggu3','minggu4']\n",
        "jumlah=[33955110, 30568800, 30568800, 32592290]\n",
        "ax.pie(jumlah,labels=minggu,autopct='%1.2f%%')\n",
        "plt.title(\"toserba\")\n",
        "plt.show()\n",
        "\n",
        "\n",
        "#cara menampilkan scatter plot\n",
        "fig = plt.figure()\n",
        "ax =  fig.add_axes([0,0,1,1])\n",
        "minggu = ['minggu1','minggu2','minggu3','minggu4']\n",
        "jumlah=[33955110, 30568800, 30568800, 32592290]\n",
        "plt.title(\"toserba\")\n",
        "ax.scatter(minggu, jumlah,)\n",
        "plt.show()\n"
      ],
      "metadata": {
        "colab": {
          "base_uri": "https://localhost:8080/",
          "height": 1000
        },
        "id": "WTfFr73qCHfp",
        "outputId": "864efe4e-8b67-4767-e254-c640e2bf92c5"
      },
      "execution_count": null,
      "outputs": [
        {
          "output_type": "stream",
          "name": "stdout",
          "text": [
            "minggu 1\n",
            "hasil dari minggu 1 = 33955110\n",
            "minggu 2\n",
            "hasil dari minggu 2 = 30568800\n",
            "minggu 3\n",
            "hasil dari minggu 3 = 25809590\n",
            "minggu 4\n",
            "hasil dari minggu 4 = 32592290\n"
          ]
        },
        {
          "output_type": "display_data",
          "data": {
            "text/plain": [
              "<Figure size 432x288 with 1 Axes>"
            ],
            "image/png": "[encoded data removed]"
          },
          "metadata": {
            "needs_background": "light"
          }
        },
        {
          "output_type": "display_data",
          "data": {
            "text/plain": [
              "<Figure size 432x288 with 1 Axes>"
            ],
            "image/png": "[encoded data removed]"
          },
          "metadata": {}
        },
        {
          "output_type": "display_data",
          "data": {
            "text/plain": [
              "<Figure size 432x288 with 1 Axes>"
            ],
            "image/png": "[encoded data removed]"
          },
          "metadata": {
            "needs_background": "light"
          }
        }
      ]
    },
    {
      "cell_type": "code",
      "source": [
        "#soal no 2\n",
        "print(\"buah-buahan\")\n",
        "a = 386\n",
        "b = 454\n",
        "c = 599\n",
        "d = 867\n",
        "e = 4\n",
        "hasil = (a+b+c+d/e)\n",
        "print(\"hasil dari minggu1 - minggu4 = \" + str(hasil))\n",
        "\n",
        "print(\"Keperluan Dapur\")\n",
        "a = 752\n",
        "b = 781\n",
        "c = 338 \n",
        "d = 512\n",
        "e = 4\n",
        "dapur = (a+b+c+d/e)\n",
        "print(\"hasil dari minggu1 - minggu4 = \" + str(dapur))\n",
        "\n",
        "print(\"Snack dan Makanan\")\n",
        "a = 1203\n",
        "b = 634\n",
        "c = 442\n",
        "d = 650\n",
        "e = 4\n",
        "snack = (a+b+c+d/e)\n",
        "print(\"hasil dari minggu1 - minggu4 = \" + str(snack))\n",
        "\n",
        "print(\"keperluan Mandi dsb\")\n",
        "a = 715\n",
        "b = 659\n",
        "c = 872\n",
        "d = 492\n",
        "e = 4\n",
        "mandi = (a+b+c+d/e)\n",
        "print(\"hasil dari minggu1 - minggu4 = \" + str(mandi))\n",
        "\n",
        "print(\"Perlengkapan rumah Tangga\")\n",
        "a = 289\n",
        "b = 411\n",
        "c = 390\n",
        "d = 488\n",
        "e = 4\n",
        "rumahtangga = (a+b+c+d/e)\n",
        "print(\"hasil dari minggu1 - minggu4 = \" + str(rumahtangga))\n",
        "\n"
      ],
      "metadata": {
        "colab": {
          "base_uri": "https://localhost:8080/"
        },
        "id": "WKYYCh-2fRP3",
        "outputId": "21f1f118-d8e6-40a1-d6ef-82ce8c7bc050"
      },
      "execution_count": null,
      "outputs": [
        {
          "output_type": "stream",
          "name": "stdout",
          "text": [
            "buah-buahan\n",
            "hasil dari minggu1 - minggu4 = 1655.75\n",
            "Keperluan Dapur\n",
            "hasil dari minggu1 - minggu4 = 1999.0\n",
            "Snack dan Makanan\n",
            "hasil dari minggu1 - minggu4 = 2441.5\n",
            "keperluan Mandi dsb\n",
            "hasil dari minggu1 - minggu4 = 2369.0\n",
            "Perlengkapan rumah Tangga\n",
            "hasil dari minggu1 - minggu4 = 1212.0\n"
          ]
        }
      ]
    },
    {
      "cell_type": "code",
      "source": [
        "#soal no 3\n",
        "a = 180\n",
        "b = 164\n",
        "c = 218\n",
        "d = 156\n",
        "e = 92\n",
        "hasil = (a+b+c+d+e)\n",
        "print(\"hasil dari totalpengunjung1 = \" + str(hasil))\n",
        "\n",
        "g = 156\n",
        "h = 212\n",
        "i = 164\n",
        "j = 144\n",
        "k = 138\n",
        "minggu2 = (g+h+i+j+k)\n",
        "print(\"hasil dari totalpengunjung2 = \" + str(minggu2))\n",
        "\n",
        "l = 290\n",
        "m = 95\n",
        "n = 120\n",
        "o = 225\n",
        "p = 135\n",
        "minggu3 = (l+m+n+o+p)\n",
        "print(\"hasil dari totalpengunjung3 = \" + str(minggu3))\n",
        "\n",
        "l = 290\n",
        "m = 95\n",
        "n = 120\n",
        "o = 225\n",
        "p = 135\n",
        "minggu3 = (l+m+n+o+p)\n",
        "print(\"hasil dari totalpengunjung3 = \" + str(minggu3))\n"
      ],
      "metadata": {
        "colab": {
          "base_uri": "https://localhost:8080/"
        },
        "id": "crHnOqzLoCsA",
        "outputId": "f90800ef-93ab-4590-c541-ad24c1732361"
      },
      "execution_count": null,
      "outputs": [
        {
          "output_type": "stream",
          "name": "stdout",
          "text": [
            "hasil dari totalpengunjung = 810\n",
            "hasil dari totalpengunjung = 814\n"
          ]
        }
      ]
    }
  ]
}